{
 "metadata": {
  "language_info": {
   "codemirror_mode": {
    "name": "ipython",
    "version": 3
   },
   "file_extension": ".py",
   "mimetype": "text/x-python",
   "name": "python",
   "nbconvert_exporter": "python",
   "pygments_lexer": "ipython3",
   "version": "3.9.5"
  },
  "orig_nbformat": 2,
  "kernelspec": {
   "name": "python395jvsc74a57bd0767d51c1340bd893661ea55ea3124f6de3c7a262a8b4abca0554b478b1e2ff90",
   "display_name": "Python 3.9.5 64-bit"
  },
  "metadata": {
   "interpreter": {
    "hash": "767d51c1340bd893661ea55ea3124f6de3c7a262a8b4abca0554b478b1e2ff90"
   }
  }
 },
 "nbformat": 4,
 "nbformat_minor": 2,
 "cells": [
  {
   "source": [
    "## Code de référence pour les filtres\n",
    "\n",
    "Avant de coder les filtres il est nécessaire de réaliser la fonction qui va appliquer ces filtres sur chaque pixel de l'image.\n",
    "\n",
    "Il est nécessaire d'importer Pillow.\n",
    "\n",
    "Pour rappel l'image de référence est la suivante :\n",
    "\n",
    "<img src='figures/5.jpg' />\n",
    "\n"
   ],
   "cell_type": "markdown",
   "metadata": {}
  },
  {
   "source": [
    "from PIL import Image"
   ],
   "cell_type": "code",
   "metadata": {},
   "execution_count": null,
   "outputs": []
  },
  {
   "source": [
    "### Première fonction : ApplyFilter(Filter, image), elle prend en paramètre un filtre et une image. Elle renvoie une nouvelle image. ###"
   ],
   "cell_type": "markdown",
   "metadata": {}
  },
  {
   "cell_type": "code",
   "execution_count": null,
   "metadata": {},
   "outputs": [],
   "source": [
    "def ApplyFilter(Filter, image):\n",
    "    result = image.copy()\n",
    "    width = image.width\n",
    "    height = image.height\n",
    "    p_image = image.load()\n",
    "    p_res = result.load()\n",
    "    for i in range(0, width):\n",
    "        for j in range(0, height):\n",
    "            color = p_image[i, j]\n",
    "            p_res[i, j] = Filter(color)\n",
    "    return result"
   ]
  },
  {
   "source": [
    "### Deuxième fonction : Grayscale(color), elle prend en paramètre une couleur et applique un filtre de nuance de gris dessus. Elle renvoie une nouvelle couleur. ###"
   ],
   "cell_type": "markdown",
   "metadata": {}
  },
  {
   "cell_type": "code",
   "execution_count": null,
   "metadata": {},
   "outputs": [],
   "source": [
    "def Grayscale(color):\n",
    "    (r, g, b) = color\n",
    "    res = int(0.2126 * r + 0.7152 * g + 0.0722 * b)\n",
    "    return (res, res, res)"
   ]
  },
  {
   "source": [
    "### Troisième fonction : Cyan(color), elle prend en paramètre une couleur et applique un filtre cyan dessus. Elle renvoie une nouvelle couleur. ###"
   ],
   "cell_type": "markdown",
   "metadata": {}
  },
  {
   "cell_type": "code",
   "execution_count": null,
   "metadata": {},
   "outputs": [],
   "source": [
    "def Cyan(color):\n",
    "    (r, g, b) = color\n",
    "    return (0, g, b) # Par synthese additive on remarque que le cyan est obtenu par addition du vert et du bleu."
   ]
  },
  {
   "source": [
    "### Quatrième fonction : Negative(color), elle prend en paramètre une couleur et applique un filtre négatif dessus. Elle renvoie une nouvelle couleur. ###"
   ],
   "cell_type": "markdown",
   "metadata": {}
  },
  {
   "cell_type": "code",
   "execution_count": null,
   "metadata": {},
   "outputs": [],
   "source": [
    "def Negative(color):\n",
    "    (r, g, b) = color\n",
    "    return (255 - r, 255 - g, 255 - b)"
   ]
  },
  {
   "source": [
    "Dans la seconde partie du TP sur les filtres il va être question de manipuler directement les images. Il ne faut plus utiliser ApplyFilter."
   ],
   "cell_type": "markdown",
   "metadata": {}
  },
  {
   "source": [
    "### Cinquième fonction : SymX(image), elle prend en paramètre une image et applique une symétrie axiale sur l'axe des abcisses. ###"
   ],
   "cell_type": "markdown",
   "metadata": {}
  },
  {
   "cell_type": "code",
   "execution_count": null,
   "metadata": {},
   "outputs": [],
   "source": [
    "def SymX(image):\n",
    "    result = image.copy()\n",
    "    width = image.width\n",
    "    height = image.height\n",
    "    p_image = image.load()\n",
    "    p_result = result.load()\n",
    "    for i in range(width):\n",
    "        for j in range(height//2, height):\n",
    "            p_result[i, j] = p_image[i, height- j -1]\n",
    "    return result"
   ]
  },
  {
   "source": [
    "### Sixième fonction : SymY(image), elle prend en paramètre une image et applique une symétrie axiale sur l'axe des ordonnées. ###"
   ],
   "cell_type": "markdown",
   "metadata": {}
  },
  {
   "cell_type": "code",
   "execution_count": null,
   "metadata": {},
   "outputs": [],
   "source": [
    "def SymY(image):\n",
    "    result = image.copy()\n",
    "    width = image.width\n",
    "    height = image.height\n",
    "    p_image = image.load()\n",
    "    p_result = result.load()\n",
    "    for i in range(width//2, width):\n",
    "        for j in range(height):\n",
    "            p_result[i, j] = p_image[width - i - 1, j]\n",
    "    return result"
   ]
  },
  {
   "source": [
    "### Septième fonction : RotateN(image, n), elle prend en paramètre une image et un nombre de rotations droite (90°) à effetuer. Elle retourne une nouvelle image. ###\n",
    "### Il est préférable de faire différentes fonctions annexes. ###"
   ],
   "cell_type": "markdown",
   "metadata": {}
  },
  {
   "cell_type": "code",
   "execution_count": null,
   "metadata": {},
   "outputs": [],
   "source": [
    "def RotateRight(image):\n",
    "\tresult = Image.new(mode=\"RGB\", size = (image.height, image.width))\n",
    "\tp_image = image.load()\n",
    "\tp_result = result.load()\n",
    "\twidth = result.width\n",
    "\theight = result.height\n",
    "\tfor i in range(width):\n",
    "\t\tfor j in range(height):\n",
    "\t\t\tp_result[i, j] = p_image[j, width - i -1]\n",
    "\treturn result\n",
    "\n",
    "\n",
    "def RotateLeft(image):\n",
    "\tresult = Image.new(mode = \"RGB\", size = (image.height, image.width))\n",
    "\tp_image = image.load()\n",
    "\tp_result = result.load()\n",
    "\twidth = result.width\n",
    "\theight = result.height\n",
    "\tfor i in range(width):\n",
    "\t\tfor j in range(height):\n",
    "\t\t\tp_result[i, j] = p_image[height - j - 1, i]\n",
    "\treturn result\n",
    "\n",
    "\n",
    "def Rotate180(image):\n",
    "\twidth = image.width\n",
    "\theight = image.height\n",
    "\tresult = image.copy()\n",
    "\tp_image = image.load()\n",
    "\tp_result = result.load()\n",
    "\tfor i in range(width):\n",
    "\t\tfor j in range(height):\n",
    "\t\t\tp_result[i, j] = p_image[width - i - 1, height - j - 1]\n",
    "\treturn result\n",
    "\n",
    "\n",
    "def RotateN(image, n):\n",
    "\tres = image\n",
    "\tif n % 4 == 1:\n",
    "\t\tres = RotateRight(image)\n",
    "\tif n % 4 == 2:\n",
    "\t\tres = Rotate180(image)\n",
    "\tif n % 4 == 3:\n",
    "\t\tres = RotateLeft(image)\n",
    "\treturn res"
   ]
  },
  {
   "source": [
    "### Huitième fonction : diff(image1, image2), elle prend en paramètre deux images et renvoie le pourcentage de difference entre elles. ###\n",
    "### Les images doivent être de la même taille. ###"
   ],
   "cell_type": "markdown",
   "metadata": {}
  },
  {
   "cell_type": "code",
   "execution_count": null,
   "metadata": {},
   "outputs": [],
   "source": [
    "def diff(image1, image2):\n",
    "\twidth = image1.width\n",
    "\theight = image1.height\n",
    "\tp_image1 = image1.load()\n",
    "\tp_image2 = image2.load()\n",
    "\tdiff = 0\n",
    "\tfor i in range(width):\n",
    "\t\tfor j in range(height):\n",
    "\t\t\t(r1, g1, b1) = p_image1[i, j]\n",
    "\t\t\t(r2, g2, b2) = p_image2[i, j]\n",
    "\t\t\tdiff += abs(r1 - r2)\n",
    "\t\t\tdiff += abs(g1 - g2)\n",
    "\t\t\tdiff += abs(b1 - b2)\n",
    "\t\t\t# Calcul du pourcentage on divise par le nombre de pixels et de canneaux de couleur.\n",
    "\tdiff = 100 * ((diff/255) / (width * height * 3))\n",
    "\treturn diff "
   ]
  },
  {
   "source": [
    "### Neuvième fonction : denoising(image), elle prend en paramètre une image pour lui appliquer un filtre médian. ###"
   ],
   "cell_type": "markdown",
   "metadata": {}
  },
  {
   "cell_type": "code",
   "execution_count": null,
   "metadata": {},
   "outputs": [],
   "source": [
    "def denoising(image):\n",
    "\twidth = image.width\n",
    "\theight = image.height\n",
    "\tresult = Image.new(mode = \"RGB\", size = (width, height))\n",
    "\tp_image = image.load()\n",
    "\tp_result = result.load()\n",
    "\tfor i in range(2, width - 2):\n",
    "\t\tfor j in range(2, height - 2):\n",
    "\t\t\tneighbour_r = []\n",
    "\t\t\tneighbour_g = []\n",
    "\t\t\tneighbour_b = []\n",
    "            # On regarde les pixels voisins\n",
    "\t\t\tfor k in range(-2, 2):\n",
    "\t\t\t\tfor l in range(-2, 2):\n",
    "\t\t\t\t\tneighbour_r.append(p_image[i + k, j + l][0])\n",
    "\t\t\t\t\tneighbour_g.append(p_image[i + k, j + l][1])\n",
    "\t\t\t\t\tneighbour_b.append(p_image[i + k, j + l][2])\n",
    "\t\t\tneighbour_r.sort()\n",
    "\t\t\tneighbour_g.sort()\n",
    "\t\t\tneighbour_b.sort()\n",
    "            # On calcule la valeur de la mediane de tous les pixels voisins.\n",
    "\t\t\tp_result[i, j] = (neighbour_r[(len(neighbour_r) + 1) // 2],\n",
    "\t\t\t\t\t\t\tneighbour_g[(len(neighbour_g) + 1) // 2], neighbour_b[(len(neighbour_b) + 1) // 2])\n",
    "\treturn result"
   ]
  },
  {
   "cell_type": "code",
   "execution_count": null,
   "metadata": {},
   "outputs": [],
   "source": [
    "# Quelques tests !\n",
    "ref_image = Image.open(\"ref.jpg\")\n",
    "noise_image = Image.open(\"noisycat.jpg\")\n",
    "\n",
    "# Filtre nuances de gris\n",
    "ApplyFilter(Grayscale, ref_image).save(\"Grayscale.jpg\")\n",
    "# Filtre Cyan\n",
    "ApplyFilter(Cyan, ref_image).save(\"Cyan.jpg\")\n",
    "# Filtre négatif\n",
    "ApplyFilter(Negative, ref_image).save(\"Negative.jpg\")\n",
    "# Symétrie en X\n",
    "SymX(ref_image).save(\"SymX.jpg\")\n",
    "# Symétrie en Y\n",
    "SymY(ref_image).save(\"SymY.jpg\")\n",
    "# Pourcentage de différence\n",
    "print(diff(ref_image, noise_image))\n",
    "# Rotations\n",
    "RotateN(ref_image, 2).save(\"Rotate2.jpg\")\n",
    "\n",
    "RotateN(ref_image, 9).save(\"Rotate9.jpg\")\n",
    "# Denoising\n",
    "denoising(noise_image).save(\"denoised.jpg\")\n",
    "\n",
    "ref_image.close()\n",
    "noise_image.close()\n"
   ]
  },
  {
   "source": [],
   "cell_type": "markdown",
   "metadata": {}
  }
 ]
}