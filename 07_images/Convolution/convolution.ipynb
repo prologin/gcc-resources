{
 "metadata": {
  "language_info": {
   "codemirror_mode": {
    "name": "ipython",
    "version": 3
   },
   "file_extension": ".py",
   "mimetype": "text/x-python",
   "name": "python",
   "nbconvert_exporter": "python",
   "pygments_lexer": "ipython3",
   "version": "3.9.4"
  },
  "orig_nbformat": 2,
  "kernelspec": {
   "name": "python394jvsc74a57bd0e2a7c3d20469dda411fd3211f02092a920078d1ca97c72d3dc7928b841d3a44a",
   "display_name": "Python 3.9.4 64-bit"
  },
  "metadata": {
   "interpreter": {
    "hash": "e2a7c3d20469dda411fd3211f02092a920078d1ca97c72d3dc7928b841d3a44a"
   }
  }
 },
 "nbformat": 4,
 "nbformat_minor": 2,
 "cells": [
  {
   "source": [
    "## Code de référence pour l'exercice sur la convolution\n",
    "Avant de réaliser la fonction qui va réaliser la convolution d'une matrice sur une image, il faut implémenter 2 fonctions qui vont nous aider et raccourcir le code de la fonction `convolution()`.\n",
    "\n",
    "Ne pas oublier d'importer Pillow ! :) "
   ],
   "cell_type": "markdown",
   "metadata": {}
  },
  {
   "cell_type": "code",
   "execution_count": 2,
   "metadata": {},
   "outputs": [],
   "source": [
    "from PIL import Image\n",
    "\n",
    "# Quelques matrices\n",
    "\n",
    "edge = [[-1, -1, -1],\n",
    "        [-1, 8, -1], \n",
    "        [-1, -1, -1]]\n",
    "\n",
    "blurr = [[1/9, 1/9, 1/9],\n",
    "            [1/9, 0, 1/9],\n",
    "            [1/9, 1/9, 1/9]]\n",
    "\n",
    "sharp = [[0, -1, 0],\n",
    "        [-1, 5, -1],\n",
    "        [0, -1, 0]]"
   ]
  },
  {
   "source": [
    "Première fonction : `isCoordValid(x, y, h, w)`, elle prend en paramètre des coordonnées `x`et `y`, ainsi que les dimensions de l'image `h` (hauteur / height en anglais) et `w` (largeur / width en anglais). Elle renvoie un booléen indiquant si les coordonnées sont bien dans l'image. "
   ],
   "cell_type": "markdown",
   "metadata": {}
  },
  {
   "cell_type": "code",
   "execution_count": 3,
   "metadata": {},
   "outputs": [],
   "source": [
    "def isCoordValid(x, y, h, w):\n",
    "    return x >= 0 and y >= 0 and x < w and y < h"
   ]
  },
  {
   "source": [
    "Deuxième fonction : `makeValidValue(v)`, elle prend en paramètre un nombre décimal et renvoie un nombre entier. Elle fait en sorte de renvoyer une valeur entre 0 et 255. Si la valeur est inférieure à 0, elle renvoie 0. Si l valeur est supérieure à 255, elle renvoie 255."
   ],
   "cell_type": "markdown",
   "metadata": {}
  },
  {
   "cell_type": "code",
   "execution_count": 4,
   "metadata": {},
   "outputs": [],
   "source": [
    "def makeValidValue(v):\n",
    "    if v < 0:\n",
    "        return 0\n",
    "    elif v > 255:\n",
    "        return 255\n",
    "    return int(v)"
   ]
  },
  {
   "source": [
    "Troisième fonction : `convolution(m, path, out)`, elle prend en paramètre `m`la matrice que l'on souhaite applique à l'image, `path` le chemin menant à l'image, soit une chaîne de caractères. Finalement, elle prend `out`qui est le nom de la nouvelle image créée."
   ],
   "cell_type": "markdown",
   "metadata": {}
  },
  {
   "cell_type": "code",
   "execution_count": 5,
   "metadata": {},
   "outputs": [],
   "source": [
    "def convolution(m, path, out):\n",
    "    # On ouvre l'image depuis l'ordinateur et on charge les pixels dans une matrice\n",
    "    image = Image.open(path)\n",
    "    pixelmap = image.load()\n",
    "\n",
    "    # On récupère la hauteur (height) et largeur (width) de l'image\n",
    "    h = image.height\n",
    "    w = image.width\n",
    "\n",
    "    # Comme on ne peut modifier en cours de route l'image ouverte précédemment, au risque de modifier des données de référence, on créée un nouvelle image ayant les mêmes dimensions\n",
    "    res = Image.new(\"RGB\", (w, h))\n",
    "    pixelmap2 = res.load()\n",
    "\n",
    "    # On calcule la demi-hauteur de la matrice, va être utile pour la parcourir\n",
    "    dh = len(m) // 2\n",
    "\n",
    "    # On parcourt l'image\n",
    "    for y in range(h):\n",
    "        for x in range(w):\n",
    "            # on initialise des variables pour la suite\n",
    "            (r, g, b) = (0, 0, 0)\n",
    "            \n",
    "            # On parcourt la matrice\n",
    "            for xx in range(-dh, dh + 1):\n",
    "                for yy in range(-dh, dh + 1):\n",
    "                    # On vérifie si la coordonnée est valide\n",
    "                    if isCoordValid(x + xx, y + yy, h, w):\n",
    "                        # On récupère les valeurs des pixels\n",
    "                        (red, green, blue) = pixelmap[x + xx, y + yy]\n",
    "                        # On récupère le coefficient à appliquer\n",
    "                        coef = m[dh + xx][dh + yy] \n",
    "\n",
    "                        r += red * coef\n",
    "                        g += green * coef\n",
    "                        b += blue * coef\n",
    "            # On met à jour la valeur du pixel\n",
    "            pixelmap2[x, y] = (makeValidValue(r), makeValidValue(g), makeValidValue(b))\n",
    "    res.save(out)"
   ]
  },
  {
   "cell_type": "code",
   "execution_count": 6,
   "metadata": {},
   "outputs": [],
   "source": [
    "# Quelques tests !\n",
    "convolution(edge, \"cat.jpg\", \"edge.png\")\n",
    "convolution(blurr, \"cat.jpg\", \"blurr.png\")\n",
    "convolution(sharp, \"cat.jpg\", \"sharp.png\")"
   ]
  },
  {
   "cell_type": "code",
   "execution_count": null,
   "metadata": {},
   "outputs": [],
   "source": []
  }
 ]
}